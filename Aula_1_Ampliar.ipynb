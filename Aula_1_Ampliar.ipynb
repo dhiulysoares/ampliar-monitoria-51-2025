{
  "nbformat": 4,
  "nbformat_minor": 0,
  "metadata": {
    "colab": {
      "provenance": [],
      "authorship_tag": "ABX9TyNB+H6scGpWV28E9PBJvu45",
      "include_colab_link": true
    },
    "kernelspec": {
      "name": "python3",
      "display_name": "Python 3"
    },
    "language_info": {
      "name": "python"
    }
  },
  "cells": [
    {
      "cell_type": "markdown",
      "metadata": {
        "id": "view-in-github",
        "colab_type": "text"
      },
      "source": [
        "<a href=\"https://colab.research.google.com/github/dhiulysoares/ampliar-monitoria-51-2025/blob/main/Aula_1_Ampliar.ipynb\" target=\"_parent\"><img src=\"https://colab.research.google.com/assets/colab-badge.svg\" alt=\"Open In Colab\"/></a>"
      ]
    },
    {
      "cell_type": "markdown",
      "source": [
        "1. Escreva um algoritmo que imprima \"Hello, World!\"."
      ],
      "metadata": {
        "id": "ulUO-yuOe014"
      }
    },
    {
      "cell_type": "code",
      "source": [
        "print(\"Hello, World! 2\")"
      ],
      "metadata": {
        "colab": {
          "base_uri": "https://localhost:8080/"
        },
        "id": "UuNhVVw0j_pm",
        "outputId": "c662f1e0-4ab2-40aa-9882-60895807cb06"
      },
      "execution_count": 2,
      "outputs": [
        {
          "output_type": "stream",
          "name": "stdout",
          "text": [
            "Hello, World!\n"
          ]
        }
      ]
    },
    {
      "cell_type": "markdown",
      "source": [
        "2. Crie um algoritmo que receba um nome e exiba \"Olá, [nome]!\"."
      ],
      "metadata": {
        "id": "IvjE5tRfe8LA"
      }
    },
    {
      "cell_type": "markdown",
      "source": [
        "3. Desenvolva um algoritmo que calcule a soma de dois números."
      ],
      "metadata": {
        "id": "yMLTJQmAfCTC"
      }
    },
    {
      "cell_type": "markdown",
      "source": [
        "4. Peça ao usuário para digitar dois números e exiba a diferença entre eles."
      ],
      "metadata": {
        "id": "fOAFGeP4fHLZ"
      }
    },
    {
      "cell_type": "markdown",
      "source": [
        "5. Receba dois números e exiba a média aritmética deles."
      ],
      "metadata": {
        "id": "xTOl7I3zfMRy"
      }
    },
    {
      "cell_type": "markdown",
      "source": [
        "6. Faça um programa que calcule a área de um triângulo."
      ],
      "metadata": {
        "id": "X9IJivw9fQct"
      }
    },
    {
      "cell_type": "markdown",
      "source": [
        "7. Peça ao usuário para inserir um texto e exiba quantos caracteres ele tem."
      ],
      "metadata": {
        "id": "uoufpihah3x3"
      }
    },
    {
      "cell_type": "markdown",
      "source": [
        "8. Receba um nome completo e exiba apenas as iniciais."
      ],
      "metadata": {
        "id": "x-JitXgjiP-3"
      }
    },
    {
      "cell_type": "markdown",
      "source": [
        "9. Peça ao usuário para digitar um texto e substitua todas as vogais por \"*\"."
      ],
      "metadata": {
        "id": "8yMMfy8GjbSz"
      }
    },
    {
      "cell_type": "markdown",
      "source": [
        "10. Crie um algoritmo que converta metros para centímetros."
      ],
      "metadata": {
        "id": "fdTIRzG6jo2w"
      }
    }
  ]
}